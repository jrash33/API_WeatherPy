{
 "cells": [
  {
   "cell_type": "markdown",
   "metadata": {},
   "source": [
    "# API WeatherPy\n",
    "### Joey Ashcroft\n",
    "\n",
    "Whether financial, political, or social -- data's true power lies in its ability to answer questions definitively. So let's take what you've learned about Python requests, APIs, and JSON traversals to answer a fundamental question: \"What's the weather like as we approach the equator?\"\n",
    "\n",
    "Now, we know what you may be thinking: \"Duh. It gets hotter...\"\n",
    "\n",
    "But, if pressed, how would you prove it?"
   ]
  },
  {
   "cell_type": "code",
   "execution_count": 1,
   "metadata": {},
   "outputs": [],
   "source": [
    "# Dependencies\n",
    "import matplotlib.pyplot as plt\n",
    "import pandas as pd\n",
    "import numpy as np\n",
    "import requests\n",
    "import time\n",
    "from config import api_key\n",
    "\n",
    "# Incorporated citipy to determine city based on latitude and longitude\n",
    "from citipy import citipy\n",
    "\n",
    "# Output File (CSV)\n",
    "output_data_file = \"output_data/cities.csv\"\n",
    "\n",
    "# Range of latitudes and longitudes\n",
    "lat_range = (-90, 90)\n",
    "lng_range = (-180, 180)"
   ]
  },
  {
   "cell_type": "markdown",
   "metadata": {},
   "source": [
    "### Generate List of Cities"
   ]
  },
  {
   "cell_type": "code",
   "execution_count": 2,
   "metadata": {},
   "outputs": [
    {
     "data": {
      "text/plain": [
       "622"
      ]
     },
     "execution_count": 2,
     "metadata": {},
     "output_type": "execute_result"
    }
   ],
   "source": [
    "# List for holding lat_lngs and cities\n",
    "lat_lngs = []\n",
    "cities = []\n",
    "\n",
    "# Create a set of random lat and lng combinations\n",
    "lats = np.random.uniform(low=lat_range[0], high=lat_range[1], size=1500)\n",
    "lngs = np.random.uniform(low=lng_range[0], high=lng_range[1], size=1500)\n",
    "lat_lngs = zip(lats, lngs)\n",
    "\n",
    "# Identify nearest city for each lat, lng combination\n",
    "for lat_lng in lat_lngs:\n",
    "    city = citipy.nearest_city(lat_lng[0], lat_lng[1]).city_name\n",
    "    \n",
    "    # If the city is unique, then add it to a our cities list\n",
    "    if city not in cities:\n",
    "        cities.append(city)\n",
    "\n",
    "# Print the city count to confirm sufficient count\n",
    "len(cities)"
   ]
  },
  {
   "cell_type": "markdown",
   "metadata": {},
   "source": [
    "### API Calls\n",
    "- Perform a weather check on each city using a series of successive API calls.\n",
    "- Include a print log of each city as it'sbeing processed (with the city number and city name)."
   ]
  },
  {
   "cell_type": "code",
   "execution_count": 11,
   "metadata": {},
   "outputs": [],
   "source": [
    "cities2 = cities[1:30]"
   ]
  },
  {
   "cell_type": "code",
   "execution_count": 50,
   "metadata": {},
   "outputs": [
    {
     "name": "stdout",
     "output_type": "stream",
     "text": [
      "Beginning Data Retrieval\n",
      "-----------------------------\n",
      "Processing Record 1 of set 1 | lebu\n",
      "Processing Record 2 of set 1 | rio gallegos\n",
      "Processing Record 3 of set 1 | rikitea\n",
      "Processing Record 4 of set 1 | nanortalik\n",
      "Processing Record 5 of set 1 | cherskiy\n",
      "Processing Record 6 of set 1 | punta arenas\n",
      "Processing Record 7 of set 1 | barguzin\n",
      "Processing Record 8 of set 1 | bluff\n",
      "Processing Record 9 of set 1 | bagaha\n",
      "Processing Record 10 of set 1 | yerbogachen\n",
      "Processing Record 11 of set 1 | jamestown\n",
      "City not found. Skipping...\n",
      "Processing Record 13 of set 1 | aswan\n",
      "Processing Record 14 of set 1 | port alfred\n",
      "Processing Record 15 of set 1 | iqaluit\n",
      "Processing Record 16 of set 1 | thunder bay\n",
      "Processing Record 17 of set 1 | hobart\n",
      "Processing Record 18 of set 1 | mataura\n",
      "Processing Record 19 of set 1 | lasa\n",
      "Processing Record 20 of set 1 | san quintin\n",
      "Processing Record 21 of set 1 | ambanja\n",
      "Processing Record 22 of set 1 | hofn\n",
      "Processing Record 23 of set 1 | sao filipe\n",
      "Processing Record 24 of set 1 | busselton\n",
      "Processing Record 25 of set 1 | caravelas\n",
      "Processing Record 26 of set 1 | zabol\n",
      "Processing Record 27 of set 1 | aklavik\n",
      "City not found. Skipping...\n",
      "Processing Record 29 of set 1 | leningradskiy\n",
      "-----------------------------\n",
      "Data Retrieval Complete\n",
      "-----------------------------\n"
     ]
    }
   ],
   "source": [
    "# Save config information.\n",
    "url = \"http://api.openweathermap.org/data/2.5/weather?\"\n",
    "units = \"metric\"\n",
    "\n",
    "# Build partial query URL\n",
    "query_url = f\"{url}appid={api_key}&units={units}&q=\"\n",
    "\n",
    "# set up lists to hold reponse info\n",
    "city_name=[]\n",
    "cloudiness=[]\n",
    "country=[]\n",
    "date=[]\n",
    "humidity=[]\n",
    "lat=[]\n",
    "lng=[]\n",
    "max_temp=[]\n",
    "wind_speed=[]\n",
    "counter=0\n",
    "set_counter=1\n",
    "counter_finish=0\n",
    "\n",
    "# Loop through the list of cities and perform a request for data on each\n",
    "for city in cities2:\n",
    "    counter_finish=counter_finish+1\n",
    "    \n",
    "    if (counter==0)&(set_counter==1):\n",
    "        print(\"Beginning Data Retrieval\")\n",
    "        print(\"-----------------------------\")\n",
    "    \n",
    "    if (counter==49):\n",
    "        counter=0\n",
    "        set_counter=set_counter+1\n",
    "    try:\n",
    "        counter=counter+1\n",
    "        response = requests.get(query_url + city).json()\n",
    "        cloudiness.append(response['clouds']['all'])\n",
    "        city_name.append(city)\n",
    "        country.append(response['sys']['country'])\n",
    "        date.append(response['dt'])\n",
    "        humidity.append(response['main']['humidity'])\n",
    "        lat.append(response['coord']['lat'])\n",
    "        lng.append(response['coord']['lon'])\n",
    "        max_temp.append(response['main']['temp_max'])\n",
    "        wind_speed.append(response['wind']['speed'])\n",
    "        print(f\"Processing Record {counter} of set {set_counter} | {city}\")\n",
    "    except KeyError:\n",
    "        print(\"City not found. Skipping...\")\n",
    "    \n",
    "    if (counter_finish==len(cities2)):\n",
    "        print(\"-----------------------------\")\n",
    "        print(\"Data Retrieval Complete\")\n",
    "        print(\"-----------------------------\")\n",
    "        \n",
    "    "
   ]
  },
  {
   "cell_type": "markdown",
   "metadata": {},
   "source": [
    "### Convert Raw Data to DataFrame\n",
    "- Export the city data into a .csv.\n",
    "- Display the DataFrame"
   ]
  },
  {
   "cell_type": "code",
   "execution_count": 58,
   "metadata": {},
   "outputs": [
    {
     "data": {
      "text/plain": [
       "City          27\n",
       "Cloudiness    27\n",
       "Country       27\n",
       "Date          27\n",
       "Humidity      27\n",
       "Lat           27\n",
       "Lng           27\n",
       "Max Temp      27\n",
       "Wind Speed    27\n",
       "dtype: int64"
      ]
     },
     "execution_count": 58,
     "metadata": {},
     "output_type": "execute_result"
    }
   ],
   "source": []
  },
  {
   "cell_type": "code",
   "execution_count": 59,
   "metadata": {},
   "outputs": [
    {
     "data": {
      "text/plain": [
       "City          27\n",
       "Cloudiness    27\n",
       "Country       27\n",
       "Date          27\n",
       "Humidity      27\n",
       "Lat           27\n",
       "Lng           27\n",
       "Max Temp      27\n",
       "Wind Speed    27\n",
       "dtype: int64"
      ]
     },
     "execution_count": 59,
     "metadata": {},
     "output_type": "execute_result"
    }
   ],
   "source": [
    "summary_df = pd.DataFrame({\n",
    "    \"City\":city_name,\n",
    "    \"Cloudiness\": cloudiness,\n",
    "    \"Country\":country,\n",
    "    \"Date\":date,\n",
    "    \"Humidity\":humidity,\n",
    "    \"Lat\":lat,\n",
    "    \"Lng\":lng,\n",
    "    \"Max Temp\":max_temp,\n",
    "    \"Wind Speed\":wind_speed,\n",
    "})\n",
    "\n",
    "summary_df.count()"
   ]
  },
  {
   "cell_type": "code",
   "execution_count": 60,
   "metadata": {},
   "outputs": [
    {
     "data": {
      "text/html": [
       "<div>\n",
       "<style scoped>\n",
       "    .dataframe tbody tr th:only-of-type {\n",
       "        vertical-align: middle;\n",
       "    }\n",
       "\n",
       "    .dataframe tbody tr th {\n",
       "        vertical-align: top;\n",
       "    }\n",
       "\n",
       "    .dataframe thead th {\n",
       "        text-align: right;\n",
       "    }\n",
       "</style>\n",
       "<table border=\"1\" class=\"dataframe\">\n",
       "  <thead>\n",
       "    <tr style=\"text-align: right;\">\n",
       "      <th></th>\n",
       "      <th>City</th>\n",
       "      <th>Cloudiness</th>\n",
       "      <th>Country</th>\n",
       "      <th>Date</th>\n",
       "      <th>Humidity</th>\n",
       "      <th>Lat</th>\n",
       "      <th>Lng</th>\n",
       "      <th>Max Temp</th>\n",
       "      <th>Wind Speed</th>\n",
       "    </tr>\n",
       "  </thead>\n",
       "  <tbody>\n",
       "    <tr>\n",
       "      <th>0</th>\n",
       "      <td>lebu</td>\n",
       "      <td>8</td>\n",
       "      <td>ET</td>\n",
       "      <td>1551418770</td>\n",
       "      <td>40</td>\n",
       "      <td>8.96</td>\n",
       "      <td>38.73</td>\n",
       "      <td>17.29</td>\n",
       "      <td>1.67</td>\n",
       "    </tr>\n",
       "    <tr>\n",
       "      <th>1</th>\n",
       "      <td>rio gallegos</td>\n",
       "      <td>90</td>\n",
       "      <td>AR</td>\n",
       "      <td>1551416400</td>\n",
       "      <td>81</td>\n",
       "      <td>-51.62</td>\n",
       "      <td>-69.22</td>\n",
       "      <td>12.00</td>\n",
       "      <td>1.50</td>\n",
       "    </tr>\n",
       "    <tr>\n",
       "      <th>2</th>\n",
       "      <td>rikitea</td>\n",
       "      <td>92</td>\n",
       "      <td>PF</td>\n",
       "      <td>1551418770</td>\n",
       "      <td>100</td>\n",
       "      <td>-23.12</td>\n",
       "      <td>-134.97</td>\n",
       "      <td>24.74</td>\n",
       "      <td>4.07</td>\n",
       "    </tr>\n",
       "    <tr>\n",
       "      <th>3</th>\n",
       "      <td>nanortalik</td>\n",
       "      <td>56</td>\n",
       "      <td>GL</td>\n",
       "      <td>1551418576</td>\n",
       "      <td>91</td>\n",
       "      <td>60.14</td>\n",
       "      <td>-45.24</td>\n",
       "      <td>0.49</td>\n",
       "      <td>12.77</td>\n",
       "    </tr>\n",
       "    <tr>\n",
       "      <th>4</th>\n",
       "      <td>cherskiy</td>\n",
       "      <td>36</td>\n",
       "      <td>RU</td>\n",
       "      <td>1551418771</td>\n",
       "      <td>65</td>\n",
       "      <td>68.75</td>\n",
       "      <td>161.30</td>\n",
       "      <td>-22.74</td>\n",
       "      <td>3.57</td>\n",
       "    </tr>\n",
       "  </tbody>\n",
       "</table>\n",
       "</div>"
      ],
      "text/plain": [
       "           City  Cloudiness Country        Date  Humidity    Lat     Lng  \\\n",
       "0          lebu           8      ET  1551418770        40   8.96   38.73   \n",
       "1  rio gallegos          90      AR  1551416400        81 -51.62  -69.22   \n",
       "2       rikitea          92      PF  1551418770       100 -23.12 -134.97   \n",
       "3    nanortalik          56      GL  1551418576        91  60.14  -45.24   \n",
       "4      cherskiy          36      RU  1551418771        65  68.75  161.30   \n",
       "\n",
       "   Max Temp  Wind Speed  \n",
       "0     17.29        1.67  \n",
       "1     12.00        1.50  \n",
       "2     24.74        4.07  \n",
       "3      0.49       12.77  \n",
       "4    -22.74        3.57  "
      ]
     },
     "execution_count": 60,
     "metadata": {},
     "output_type": "execute_result"
    }
   ],
   "source": [
    "#display the data frame\n",
    "summary_df.head()"
   ]
  },
  {
   "cell_type": "markdown",
   "metadata": {},
   "source": [
    "### Plotting the Data\n",
    "- Use proper labeling of the plots using plot titles (including date of analysis) and axes labels.\n",
    "- Save the plotted figures as .pngs."
   ]
  },
  {
   "cell_type": "code",
   "execution_count": null,
   "metadata": {},
   "outputs": [],
   "source": []
  },
  {
   "cell_type": "code",
   "execution_count": null,
   "metadata": {},
   "outputs": [],
   "source": []
  },
  {
   "cell_type": "code",
   "execution_count": null,
   "metadata": {},
   "outputs": [],
   "source": []
  },
  {
   "cell_type": "code",
   "execution_count": null,
   "metadata": {},
   "outputs": [],
   "source": []
  },
  {
   "cell_type": "code",
   "execution_count": null,
   "metadata": {},
   "outputs": [],
   "source": []
  },
  {
   "cell_type": "code",
   "execution_count": null,
   "metadata": {},
   "outputs": [],
   "source": []
  },
  {
   "cell_type": "code",
   "execution_count": null,
   "metadata": {},
   "outputs": [],
   "source": []
  },
  {
   "cell_type": "code",
   "execution_count": null,
   "metadata": {},
   "outputs": [],
   "source": [
    "# Save config information.\n",
    "url = \"http://api.openweathermap.org/data/2.5/weather?\"\n",
    "units = \"metric\"\n",
    "\n",
    "# Build partial query URL\n",
    "query_url = f\"{url}appid={api_key}&units={units}&q=\"\n",
    "\n",
    "cities = [\"Paris\", \"London\", \"Oslo\", \"Beijing\"]\n",
    "\n",
    "# set up lists to hold reponse info\n",
    "lat = []\n",
    "temp = []\n",
    "\n",
    "# Loop through the list of cities and perform a request for data on each\n",
    "for city in cities:\n",
    "    response = requests.get(query_url + city).json()\n",
    "    lat.append(response['coord']['lat'])\n",
    "    temp.append(response['main']['temp'])\n",
    "print(f\"The latitude information received is: {lat}\")\n",
    "print(f\"The temperature information received is: {temp}\")\n",
    "\n",
    "# create a data frame from cities, lat, and temp\n",
    "weather_dict = {\n",
    "    \"city\": cities,\n",
    "    \"lat\": lat,\n",
    "    \"temp\": temp\n",
    "}\n",
    "weather_data = pd.DataFrame(weather_dict)\n",
    "weather_data.head()"
   ]
  },
  {
   "cell_type": "code",
   "execution_count": null,
   "metadata": {},
   "outputs": [],
   "source": []
  },
  {
   "cell_type": "code",
   "execution_count": null,
   "metadata": {},
   "outputs": [],
   "source": []
  },
  {
   "cell_type": "code",
   "execution_count": null,
   "metadata": {},
   "outputs": [],
   "source": []
  },
  {
   "cell_type": "code",
   "execution_count": null,
   "metadata": {},
   "outputs": [],
   "source": []
  },
  {
   "cell_type": "code",
   "execution_count": null,
   "metadata": {},
   "outputs": [],
   "source": []
  },
  {
   "cell_type": "code",
   "execution_count": null,
   "metadata": {},
   "outputs": [],
   "source": []
  },
  {
   "cell_type": "code",
   "execution_count": null,
   "metadata": {},
   "outputs": [],
   "source": []
  },
  {
   "cell_type": "code",
   "execution_count": null,
   "metadata": {},
   "outputs": [],
   "source": []
  },
  {
   "cell_type": "code",
   "execution_count": null,
   "metadata": {},
   "outputs": [],
   "source": []
  },
  {
   "cell_type": "code",
   "execution_count": null,
   "metadata": {},
   "outputs": [],
   "source": []
  },
  {
   "cell_type": "code",
   "execution_count": null,
   "metadata": {},
   "outputs": [],
   "source": []
  }
 ],
 "metadata": {
  "kernelspec": {
   "display_name": "Python 3",
   "language": "python",
   "name": "python3"
  },
  "language_info": {
   "codemirror_mode": {
    "name": "ipython",
    "version": 3
   },
   "file_extension": ".py",
   "mimetype": "text/x-python",
   "name": "python",
   "nbconvert_exporter": "python",
   "pygments_lexer": "ipython3",
   "version": "3.7.1"
  }
 },
 "nbformat": 4,
 "nbformat_minor": 2
}
